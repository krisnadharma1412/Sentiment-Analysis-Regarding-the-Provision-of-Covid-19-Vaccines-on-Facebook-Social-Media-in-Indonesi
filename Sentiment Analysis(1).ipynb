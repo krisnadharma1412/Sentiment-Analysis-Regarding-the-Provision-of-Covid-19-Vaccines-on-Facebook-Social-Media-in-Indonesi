{
 "cells": [
  {
   "cell_type": "code",
   "execution_count": 1,
   "metadata": {},
   "outputs": [],
   "source": [
    "import numpy as np\n",
    "import pandas as pd\n",
    "\n",
    "from googletrans import Translator, constants\n",
    "from IPython.display import display\n",
    "import matplotlib.pyplot as plt\n",
    "import seaborn as sns\n",
    "\n",
    "from textblob import TextBlob\n",
    "\n",
    "%matplotlib inline"
   ]
  },
  {
   "cell_type": "code",
   "execution_count": 2,
   "metadata": {
    "scrolled": true
   },
   "outputs": [
    {
     "data": {
      "text/html": [
       "<div>\n",
       "<style scoped>\n",
       "    .dataframe tbody tr th:only-of-type {\n",
       "        vertical-align: middle;\n",
       "    }\n",
       "\n",
       "    .dataframe tbody tr th {\n",
       "        vertical-align: top;\n",
       "    }\n",
       "\n",
       "    .dataframe thead th {\n",
       "        text-align: right;\n",
       "    }\n",
       "</style>\n",
       "<table border=\"1\" class=\"dataframe\">\n",
       "  <thead>\n",
       "    <tr style=\"text-align: right;\">\n",
       "      <th></th>\n",
       "      <th>Nama</th>\n",
       "      <th>Komentar</th>\n",
       "      <th>Date</th>\n",
       "    </tr>\n",
       "  </thead>\n",
       "  <tbody>\n",
       "    <tr>\n",
       "      <th>0</th>\n",
       "      <td>Princess Mirabella</td>\n",
       "      <td>If I am allowed to replace the first person to...</td>\n",
       "      <td>11-Jan</td>\n",
       "    </tr>\n",
       "    <tr>\n",
       "      <th>1</th>\n",
       "      <td>Dimas Andrian</td>\n",
       "      <td>Corona goes away fast, short of breath I wear ...</td>\n",
       "      <td>11-Jan</td>\n",
       "    </tr>\n",
       "    <tr>\n",
       "      <th>2</th>\n",
       "      <td>Vanessa Warouw</td>\n",
       "      <td>First, don't take care of people who are starv...</td>\n",
       "      <td>11-Jan</td>\n",
       "    </tr>\n",
       "    <tr>\n",
       "      <th>3</th>\n",
       "      <td>Samuel Djabumir Sam</td>\n",
       "      <td>Give it to those who have the corona virus in ...</td>\n",
       "      <td>11-Jan</td>\n",
       "    </tr>\n",
       "    <tr>\n",
       "      <th>4</th>\n",
       "      <td>Puput Arisandiwa</td>\n",
       "      <td>I want to be forced to do it, anyway for our g...</td>\n",
       "      <td>11-Jan</td>\n",
       "    </tr>\n",
       "    <tr>\n",
       "      <th>...</th>\n",
       "      <td>...</td>\n",
       "      <td>...</td>\n",
       "      <td>...</td>\n",
       "    </tr>\n",
       "    <tr>\n",
       "      <th>2125</th>\n",
       "      <td>Ratna</td>\n",
       "      <td>Assalamualaikum If You Need Loans For: Busines...</td>\n",
       "      <td>Yesterday at 12:13</td>\n",
       "    </tr>\n",
       "    <tr>\n",
       "      <th>2126</th>\n",
       "      <td>Mahadias Fadilah Setiabudi</td>\n",
       "      <td>I'm a health worker at a pharmacy, but when th...</td>\n",
       "      <td>Yesterday at 07:34</td>\n",
       "    </tr>\n",
       "    <tr>\n",
       "      <th>2127</th>\n",
       "      <td>Nyai Iteung Iteung</td>\n",
       "      <td>Love.. people's money is hard, not covid trs.....</td>\n",
       "      <td>Monday at 22:25</td>\n",
       "    </tr>\n",
       "    <tr>\n",
       "      <th>2128</th>\n",
       "      <td>Fendi Pendie</td>\n",
       "      <td>I just need a trusted leader, not copy-copying...</td>\n",
       "      <td>Monday at 21:41</td>\n",
       "    </tr>\n",
       "    <tr>\n",
       "      <th>2129</th>\n",
       "      <td>Jabrrikk Rikk</td>\n",
       "      <td>Want to ask for help</td>\n",
       "      <td>Monday at 20:30</td>\n",
       "    </tr>\n",
       "  </tbody>\n",
       "</table>\n",
       "<p>2130 rows × 3 columns</p>\n",
       "</div>"
      ],
      "text/plain": [
       "                            Nama  \\\n",
       "0             Princess Mirabella   \n",
       "1                  Dimas Andrian   \n",
       "2                 Vanessa Warouw   \n",
       "3            Samuel Djabumir Sam   \n",
       "4               Puput Arisandiwa   \n",
       "...                          ...   \n",
       "2125                       Ratna   \n",
       "2126  Mahadias Fadilah Setiabudi   \n",
       "2127          Nyai Iteung Iteung   \n",
       "2128                Fendi Pendie   \n",
       "2129               Jabrrikk Rikk   \n",
       "\n",
       "                                               Komentar                Date  \n",
       "0     If I am allowed to replace the first person to...              11-Jan  \n",
       "1     Corona goes away fast, short of breath I wear ...              11-Jan  \n",
       "2     First, don't take care of people who are starv...              11-Jan  \n",
       "3     Give it to those who have the corona virus in ...              11-Jan  \n",
       "4     I want to be forced to do it, anyway for our g...              11-Jan  \n",
       "...                                                 ...                 ...  \n",
       "2125  Assalamualaikum If You Need Loans For: Busines...  Yesterday at 12:13  \n",
       "2126  I'm a health worker at a pharmacy, but when th...  Yesterday at 07:34  \n",
       "2127  Love.. people's money is hard, not covid trs.....     Monday at 22:25  \n",
       "2128  I just need a trusted leader, not copy-copying...     Monday at 21:41  \n",
       "2129                               Want to ask for help     Monday at 20:30  \n",
       "\n",
       "[2130 rows x 3 columns]"
      ]
     },
     "execution_count": 2,
     "metadata": {},
     "output_type": "execute_result"
    }
   ],
   "source": [
    "df = pd.read_csv('dataset_Vaksin.id.en.csv')\n",
    "df"
   ]
  },
  {
   "cell_type": "code",
   "execution_count": 3,
   "metadata": {},
   "outputs": [
    {
     "data": {
      "text/plain": [
       "<AxesSubplot:>"
      ]
     },
     "execution_count": 3,
     "metadata": {},
     "output_type": "execute_result"
    },
    {
     "data": {
      "image/png": "[encoded data removed]",
      "text/plain": [
       "<Figure size 1440x432 with 1 Axes>"
      ]
     },
     "metadata": {
      "needs_background": "light"
     },
     "output_type": "display_data"
    }
   ],
   "source": [
    "# Menampilkan data2 yang tidak lengkap\n",
    "\n",
    "plt.figure(figsize=(20, 6))\n",
    "sns.heatmap(df.isnull(),yticklabels=False,cbar=False,cmap='viridis')"
   ]
  },
  {
   "cell_type": "code",
   "execution_count": 4,
   "metadata": {
    "scrolled": true
   },
   "outputs": [
    {
     "data": {
      "text/plain": [
       "<AxesSubplot:>"
      ]
     },
     "execution_count": 4,
     "metadata": {},
     "output_type": "execute_result"
    },
    {
     "data": {
      "image/png": "[encoded data removed]",
      "text/plain": [
       "<Figure size 1440x432 with 1 Axes>"
      ]
     },
     "metadata": {
      "needs_background": "light"
     },
     "output_type": "display_data"
    }
   ],
   "source": [
    "# Menghapus data2 yang tidak lengkap\n",
    "\n",
    "df.dropna(inplace=True)\n",
    "plt.figure(figsize=(20, 6))\n",
    "sns.heatmap(df.isnull(),yticklabels=False,cbar=False,cmap='viridis')"
   ]
  },
  {
   "cell_type": "code",
   "execution_count": 5,
   "metadata": {},
   "outputs": [
    {
     "data": {
      "text/plain": [
       "0       If I am allowed to replace the first person to...\n",
       "1       Corona goes away fast, short of breath I wear ...\n",
       "2       First, don't take care of people who are starv...\n",
       "3       Give it to those who have the corona virus in ...\n",
       "4       I want to be forced to do it, anyway for our g...\n",
       "                              ...                        \n",
       "2125    Assalamualaikum If You Need Loans For: Busines...\n",
       "2126    I'm a health worker at a pharmacy, but when th...\n",
       "2127    Love.. people's money is hard, not covid trs.....\n",
       "2128    I just need a trusted leader, not copy-copying...\n",
       "2129                                 Want to ask for help\n",
       "Name: Komentar, Length: 1638, dtype: object"
      ]
     },
     "execution_count": 5,
     "metadata": {},
     "output_type": "execute_result"
    }
   ],
   "source": [
    "Komentar = df['Komentar']\n",
    "Komentar"
   ]
  },
  {
   "cell_type": "code",
   "execution_count": 11,
   "metadata": {},
   "outputs": [
    {
     "data": {
      "text/plain": [
       "0       If I am allowed to replace the first person to...\n",
       "1       Corona goes away fast, short of breath I wear ...\n",
       "2       Don't take care of people who are starving fir...\n",
       "3       Give it to those who have the corona virus in ...\n",
       "4       I want to be forced to do it, anyway for our g...\n",
       "                              ...                        \n",
       "2125    Assalamualaikum Jika Anda Membutuhkan Dana Pin...\n",
       "2126    Saya tenaga kesehatan di apotek, tp knp waktu ...\n",
       "2127    Kasih..duit rakyat susah bkn covid trs....nee ...\n",
       "2128    Aku hanya butuh pemimpin amanah bukan data cop...\n",
       "2129                                     Mau minta tolong\n",
       "Name: translate_En, Length: 1638, dtype: object"
      ]
     },
     "execution_count": 11,
     "metadata": {},
     "output_type": "execute_result"
    }
   ],
   "source": [
    "translator = Translator()\n",
    "df['translate_En'] = df['Komentar'].apply(translator.translate, src='id', dest='en')\n",
    "df['translate_En'] = df['translate_En'].apply(getattr, args=('text',))\n",
    "df['translate_En']"
   ]
  },
  {
   "cell_type": "markdown",
   "metadata": {},
   "source": [
    "# Sentiment Analysis menggunakan library TextBlob"
   ]
  },
  {
   "cell_type": "markdown",
   "metadata": {},
   "source": [
    "### Percobaan untuk memeriksa kemampuan TextBlob dalam melakukan klasifikasi sentiment"
   ]
  },
  {
   "cell_type": "code",
   "execution_count": 6,
   "metadata": {
    "scrolled": true
   },
   "outputs": [
    {
     "name": "stdout",
     "output_type": "stream",
     "text": [
      "Kalimat Positif:  Sentiment(polarity=0.6, subjectivity=0.25)\n",
      "Kalimat Netral:  Sentiment(polarity=0.3, subjectivity=0.9)\n",
      "Kalimat Negatif:  Sentiment(polarity=-0.65625, subjectivity=0.55)\n"
     ]
    }
   ],
   "source": [
    "# Kalimat dalam bahasa Indonesia akan di translate, karena textBlob library hanya dapat memproses text berbahasa inggris\n",
    "\n",
    "positif = \"Saya suka kucing. Saya sangat menyukai kucing, kucing adalah peliharaan terbaik!\"\n",
    "netral = \"Kucing adalah hewan peliharaan. Tetangga saya punya seekor kucing. Kucing itu bernama Bonny.\"\n",
    "negatif = \"Saya benci kucing! Kucing selalu menciptakan banyak masalah! Saya tidak mau melihat hewan itu lagi!\"\n",
    "\n",
    "positif_blob = TextBlob(positif)\n",
    "tran_pstv = positif_blob.translate(from_lang='id', to='en')\n",
    "\n",
    "netral_blob = TextBlob(netral)\n",
    "tran_ntrl = netral_blob.translate(from_lang='id', to='en')\n",
    "\n",
    "negatif_blob = TextBlob(negatif)\n",
    "tran_ngtv = negatif_blob.translate(from_lang='id', to='en')\n",
    "\n",
    "print(\"Kalimat Positif: \", tran_pstv.sentiment)\n",
    "print(\"Kalimat Netral: \", tran_ntrl.sentiment)\n",
    "print(\"Kalimat Negatif: \", tran_ngtv.sentiment)"
   ]
  },
  {
   "cell_type": "code",
   "execution_count": 8,
   "metadata": {},
   "outputs": [
    {
     "data": {
      "text/plain": [
       "TextBlob(\"I hate cats! Cats always create a lot of trouble! I don't want to see that animal again!\")"
      ]
     },
     "execution_count": 8,
     "metadata": {},
     "output_type": "execute_result"
    }
   ],
   "source": [
    "tran_ngtv"
   ]
  },
  {
   "cell_type": "markdown",
   "metadata": {},
   "source": [
    "#### Semakin tinggi polarity akan menunjukan respon yg positif"
   ]
  },
  {
   "cell_type": "code",
   "execution_count": 7,
   "metadata": {
    "scrolled": false
   },
   "outputs": [
    {
     "data": {
      "text/html": [
       "<div>\n",
       "<style scoped>\n",
       "    .dataframe tbody tr th:only-of-type {\n",
       "        vertical-align: middle;\n",
       "    }\n",
       "\n",
       "    .dataframe tbody tr th {\n",
       "        vertical-align: top;\n",
       "    }\n",
       "\n",
       "    .dataframe thead th {\n",
       "        text-align: right;\n",
       "    }\n",
       "</style>\n",
       "<table border=\"1\" class=\"dataframe\">\n",
       "  <thead>\n",
       "    <tr style=\"text-align: right;\">\n",
       "      <th></th>\n",
       "      <th>Nama</th>\n",
       "      <th>Komentar</th>\n",
       "      <th>Date</th>\n",
       "      <th>Pol</th>\n",
       "      <th>Subj</th>\n",
       "    </tr>\n",
       "  </thead>\n",
       "  <tbody>\n",
       "    <tr>\n",
       "      <th>0</th>\n",
       "      <td>Princess Mirabella</td>\n",
       "      <td>If I am allowed to replace the first person to...</td>\n",
       "      <td>11-Jan</td>\n",
       "      <td>0.296429</td>\n",
       "      <td>0.633550</td>\n",
       "    </tr>\n",
       "    <tr>\n",
       "      <th>1</th>\n",
       "      <td>Dimas Andrian</td>\n",
       "      <td>Corona goes away fast, short of breath I wear ...</td>\n",
       "      <td>11-Jan</td>\n",
       "      <td>0.300000</td>\n",
       "      <td>0.500000</td>\n",
       "    </tr>\n",
       "    <tr>\n",
       "      <th>2</th>\n",
       "      <td>Vanessa Warouw</td>\n",
       "      <td>First, don't take care of people who are starv...</td>\n",
       "      <td>11-Jan</td>\n",
       "      <td>0.125000</td>\n",
       "      <td>0.366667</td>\n",
       "    </tr>\n",
       "    <tr>\n",
       "      <th>3</th>\n",
       "      <td>Samuel Djabumir Sam</td>\n",
       "      <td>Give it to those who have the corona virus in ...</td>\n",
       "      <td>11-Jan</td>\n",
       "      <td>0.750000</td>\n",
       "      <td>0.950000</td>\n",
       "    </tr>\n",
       "    <tr>\n",
       "      <th>4</th>\n",
       "      <td>Puput Arisandiwa</td>\n",
       "      <td>I want to be forced to do it, anyway for our g...</td>\n",
       "      <td>11-Jan</td>\n",
       "      <td>-0.177778</td>\n",
       "      <td>0.666667</td>\n",
       "    </tr>\n",
       "    <tr>\n",
       "      <th>...</th>\n",
       "      <td>...</td>\n",
       "      <td>...</td>\n",
       "      <td>...</td>\n",
       "      <td>...</td>\n",
       "      <td>...</td>\n",
       "    </tr>\n",
       "    <tr>\n",
       "      <th>2125</th>\n",
       "      <td>Ratna</td>\n",
       "      <td>Assalamualaikum If You Need Loans For: Busines...</td>\n",
       "      <td>Yesterday at 12:13</td>\n",
       "      <td>-0.133333</td>\n",
       "      <td>0.466667</td>\n",
       "    </tr>\n",
       "    <tr>\n",
       "      <th>2126</th>\n",
       "      <td>Mahadias Fadilah Setiabudi</td>\n",
       "      <td>I'm a health worker at a pharmacy, but when th...</td>\n",
       "      <td>Yesterday at 07:34</td>\n",
       "      <td>0.000000</td>\n",
       "      <td>0.000000</td>\n",
       "    </tr>\n",
       "    <tr>\n",
       "      <th>2127</th>\n",
       "      <td>Nyai Iteung Iteung</td>\n",
       "      <td>Love.. people's money is hard, not covid trs.....</td>\n",
       "      <td>Monday at 22:25</td>\n",
       "      <td>0.236111</td>\n",
       "      <td>0.547222</td>\n",
       "    </tr>\n",
       "    <tr>\n",
       "      <th>2128</th>\n",
       "      <td>Fendi Pendie</td>\n",
       "      <td>I just need a trusted leader, not copy-copying...</td>\n",
       "      <td>Monday at 21:41</td>\n",
       "      <td>0.000000</td>\n",
       "      <td>0.000000</td>\n",
       "    </tr>\n",
       "    <tr>\n",
       "      <th>2129</th>\n",
       "      <td>Jabrrikk Rikk</td>\n",
       "      <td>Want to ask for help</td>\n",
       "      <td>Monday at 20:30</td>\n",
       "      <td>0.000000</td>\n",
       "      <td>0.000000</td>\n",
       "    </tr>\n",
       "  </tbody>\n",
       "</table>\n",
       "<p>1638 rows × 5 columns</p>\n",
       "</div>"
      ],
      "text/plain": [
       "                            Nama  \\\n",
       "0             Princess Mirabella   \n",
       "1                  Dimas Andrian   \n",
       "2                 Vanessa Warouw   \n",
       "3            Samuel Djabumir Sam   \n",
       "4               Puput Arisandiwa   \n",
       "...                          ...   \n",
       "2125                       Ratna   \n",
       "2126  Mahadias Fadilah Setiabudi   \n",
       "2127          Nyai Iteung Iteung   \n",
       "2128                Fendi Pendie   \n",
       "2129               Jabrrikk Rikk   \n",
       "\n",
       "                                               Komentar                Date  \\\n",
       "0     If I am allowed to replace the first person to...              11-Jan   \n",
       "1     Corona goes away fast, short of breath I wear ...              11-Jan   \n",
       "2     First, don't take care of people who are starv...              11-Jan   \n",
       "3     Give it to those who have the corona virus in ...              11-Jan   \n",
       "4     I want to be forced to do it, anyway for our g...              11-Jan   \n",
       "...                                                 ...                 ...   \n",
       "2125  Assalamualaikum If You Need Loans For: Busines...  Yesterday at 12:13   \n",
       "2126  I'm a health worker at a pharmacy, but when th...  Yesterday at 07:34   \n",
       "2127  Love.. people's money is hard, not covid trs.....     Monday at 22:25   \n",
       "2128  I just need a trusted leader, not copy-copying...     Monday at 21:41   \n",
       "2129                               Want to ask for help     Monday at 20:30   \n",
       "\n",
       "           Pol      Subj  \n",
       "0     0.296429  0.633550  \n",
       "1     0.300000  0.500000  \n",
       "2     0.125000  0.366667  \n",
       "3     0.750000  0.950000  \n",
       "4    -0.177778  0.666667  \n",
       "...        ...       ...  \n",
       "2125 -0.133333  0.466667  \n",
       "2126  0.000000  0.000000  \n",
       "2127  0.236111  0.547222  \n",
       "2128  0.000000  0.000000  \n",
       "2129  0.000000  0.000000  \n",
       "\n",
       "[1638 rows x 5 columns]"
      ]
     },
     "execution_count": 7,
     "metadata": {},
     "output_type": "execute_result"
    }
   ],
   "source": [
    "# Memasukkan isi komentar ke TextBlob\n",
    "\n",
    "Komentar_blob = [TextBlob(desc) for desc in df['Komentar']]\n",
    "\n",
    "# Menambahkan hasil ke dataframe\n",
    "df['Pol'] = [b.sentiment.polarity for b in Komentar_blob]\n",
    "df['Subj'] = [b.sentiment.subjectivity for b in Komentar_blob]\n",
    "\n",
    "\n",
    "df"
   ]
  },
  {
   "cell_type": "markdown",
   "metadata": {},
   "source": [
    "### The average value of sentiment analysis "
   ]
  },
  {
   "cell_type": "code",
   "execution_count": 8,
   "metadata": {},
   "outputs": [
    {
     "data": {
      "text/plain": [
       "0.04151872177742884"
      ]
     },
     "execution_count": 8,
     "metadata": {},
     "output_type": "execute_result"
    }
   ],
   "source": [
    "df[\"Pol\"].mean()"
   ]
  },
  {
   "cell_type": "markdown",
   "metadata": {},
   "source": [
    "# Sentiment Analysis menggunakan VADER"
   ]
  },
  {
   "cell_type": "code",
   "execution_count": 11,
   "metadata": {},
   "outputs": [
    {
     "ename": "ModuleNotFoundError",
     "evalue": "No module named 'vaderSentiment'",
     "output_type": "error",
     "traceback": [
      "\u001b[1;31m---------------------------------------------------------------------------\u001b[0m",
      "\u001b[1;31mModuleNotFoundError\u001b[0m                       Traceback (most recent call last)",
      "\u001b[1;32m<ipython-input-11-ad5cd97ef6ab>\u001b[0m in \u001b[0;36m<module>\u001b[1;34m\u001b[0m\n\u001b[1;32m----> 1\u001b[1;33m \u001b[1;32mfrom\u001b[0m \u001b[0mvaderSentiment\u001b[0m\u001b[1;33m.\u001b[0m\u001b[0mvaderSentiment\u001b[0m \u001b[1;32mimport\u001b[0m \u001b[0mSentimentIntensityAnalyzer\u001b[0m\u001b[1;33m\u001b[0m\u001b[1;33m\u001b[0m\u001b[0m\n\u001b[0m\u001b[0;32m      2\u001b[0m \u001b[0mtranslator\u001b[0m \u001b[1;33m=\u001b[0m \u001b[0mTranslator\u001b[0m\u001b[1;33m(\u001b[0m\u001b[1;33m)\u001b[0m\u001b[1;33m\u001b[0m\u001b[1;33m\u001b[0m\u001b[0m\n\u001b[0;32m      3\u001b[0m \u001b[1;33m\u001b[0m\u001b[0m\n\u001b[0;32m      4\u001b[0m \u001b[0mVader\u001b[0m\u001b[1;33m=\u001b[0m \u001b[0mSentimentIntensityAnalyzer\u001b[0m\u001b[1;33m(\u001b[0m\u001b[1;33m)\u001b[0m\u001b[1;33m\u001b[0m\u001b[1;33m\u001b[0m\u001b[0m\n\u001b[0;32m      5\u001b[0m \u001b[0mpositif\u001b[0m \u001b[1;33m=\u001b[0m \u001b[1;34m\"Saya suka kucing. Saya sangat menyukai kucing, kucing adalah peliharaan terbaik!\"\u001b[0m\u001b[1;33m\u001b[0m\u001b[1;33m\u001b[0m\u001b[0m\n",
      "\u001b[1;31mModuleNotFoundError\u001b[0m: No module named 'vaderSentiment'"
     ]
    }
   ],
   "source": [
    "from vaderSentiment.vaderSentiment import SentimentIntensityAnalyzer\n",
    "translator = Translator()\n",
    "\n",
    "Vader= SentimentIntensityAnalyzer()\n",
    "positif = \"Saya suka kucing. Saya sangat menyukai kucing, kucing adalah peliharaan terbaik!\"\n",
    "negatif = \"Saya benci kucing! Kucing selalu menciptakan banyak masalah! Saya tidak mau melihat hewan itu lagi!\"\n",
    "translate_positif = translator.translate(positif)\n",
    "translate_negatif = translator.translate(negatif)\n",
    "\n",
    "positif = Vader.polarity_scores(translate_positif.text)\n",
    "negatif = Vader.polarity_scores(translate_negatif.text)\n",
    "\n",
    "print(\"Kalimat Positif: \", positif)\n",
    "print(\"Kalimat Negatif: \", negatif)"
   ]
  },
  {
   "cell_type": "code",
   "execution_count": null,
   "metadata": {},
   "outputs": [],
   "source": [
    "translate_positif.text"
   ]
  },
  {
   "cell_type": "code",
   "execution_count": 10,
   "metadata": {
    "scrolled": true
   },
   "outputs": [
    {
     "ename": "NameError",
     "evalue": "name 'Vader' is not defined",
     "output_type": "error",
     "traceback": [
      "\u001b[1;31m---------------------------------------------------------------------------\u001b[0m",
      "\u001b[1;31mNameError\u001b[0m                                 Traceback (most recent call last)",
      "\u001b[1;32m<ipython-input-10-257a48f02cbb>\u001b[0m in \u001b[0;36m<module>\u001b[1;34m\u001b[0m\n\u001b[0;32m      1\u001b[0m \u001b[1;31m#Add VADER metrics to dataframe\u001b[0m\u001b[1;33m\u001b[0m\u001b[1;33m\u001b[0m\u001b[1;33m\u001b[0m\u001b[0m\n\u001b[1;32m----> 2\u001b[1;33m \u001b[0mdf\u001b[0m\u001b[1;33m[\u001b[0m\u001b[1;34m'compound'\u001b[0m\u001b[1;33m]\u001b[0m \u001b[1;33m=\u001b[0m \u001b[1;33m[\u001b[0m\u001b[0mVader\u001b[0m\u001b[1;33m.\u001b[0m\u001b[0mpolarity_scores\u001b[0m\u001b[1;33m(\u001b[0m\u001b[0mx\u001b[0m\u001b[1;33m)\u001b[0m\u001b[1;33m[\u001b[0m\u001b[1;34m'compound'\u001b[0m\u001b[1;33m]\u001b[0m \u001b[1;32mfor\u001b[0m \u001b[0mx\u001b[0m \u001b[1;32min\u001b[0m \u001b[0mdf\u001b[0m\u001b[1;33m[\u001b[0m\u001b[1;34m'Komentar'\u001b[0m\u001b[1;33m]\u001b[0m\u001b[1;33m]\u001b[0m\u001b[1;33m\u001b[0m\u001b[1;33m\u001b[0m\u001b[0m\n\u001b[0m\u001b[0;32m      3\u001b[0m \u001b[0mdf\u001b[0m\u001b[1;33m[\u001b[0m\u001b[1;34m'positif'\u001b[0m\u001b[1;33m]\u001b[0m \u001b[1;33m=\u001b[0m \u001b[1;33m[\u001b[0m\u001b[0mVader\u001b[0m\u001b[1;33m.\u001b[0m\u001b[0mpolarity_scores\u001b[0m\u001b[1;33m(\u001b[0m\u001b[0mx\u001b[0m\u001b[1;33m)\u001b[0m\u001b[1;33m[\u001b[0m\u001b[1;34m'pos'\u001b[0m\u001b[1;33m]\u001b[0m \u001b[1;32mfor\u001b[0m \u001b[0mx\u001b[0m \u001b[1;32min\u001b[0m \u001b[0mdf\u001b[0m\u001b[1;33m[\u001b[0m\u001b[1;34m'Komentar'\u001b[0m\u001b[1;33m]\u001b[0m\u001b[1;33m]\u001b[0m\u001b[1;33m\u001b[0m\u001b[1;33m\u001b[0m\u001b[0m\n\u001b[0;32m      4\u001b[0m \u001b[0mdf\u001b[0m\u001b[1;33m[\u001b[0m\u001b[1;34m'netral'\u001b[0m\u001b[1;33m]\u001b[0m \u001b[1;33m=\u001b[0m \u001b[1;33m[\u001b[0m\u001b[0mVader\u001b[0m\u001b[1;33m.\u001b[0m\u001b[0mpolarity_scores\u001b[0m\u001b[1;33m(\u001b[0m\u001b[0mx\u001b[0m\u001b[1;33m)\u001b[0m\u001b[1;33m[\u001b[0m\u001b[1;34m'neu'\u001b[0m\u001b[1;33m]\u001b[0m \u001b[1;32mfor\u001b[0m \u001b[0mx\u001b[0m \u001b[1;32min\u001b[0m \u001b[0mdf\u001b[0m\u001b[1;33m[\u001b[0m\u001b[1;34m'Komentar'\u001b[0m\u001b[1;33m]\u001b[0m\u001b[1;33m]\u001b[0m\u001b[1;33m\u001b[0m\u001b[1;33m\u001b[0m\u001b[0m\n\u001b[0;32m      5\u001b[0m \u001b[0mdf\u001b[0m\u001b[1;33m[\u001b[0m\u001b[1;34m'negatif'\u001b[0m\u001b[1;33m]\u001b[0m \u001b[1;33m=\u001b[0m \u001b[1;33m[\u001b[0m\u001b[0mVader\u001b[0m\u001b[1;33m.\u001b[0m\u001b[0mpolarity_scores\u001b[0m\u001b[1;33m(\u001b[0m\u001b[0mx\u001b[0m\u001b[1;33m)\u001b[0m\u001b[1;33m[\u001b[0m\u001b[1;34m'neg'\u001b[0m\u001b[1;33m]\u001b[0m \u001b[1;32mfor\u001b[0m \u001b[0mx\u001b[0m \u001b[1;32min\u001b[0m \u001b[0mdf\u001b[0m\u001b[1;33m[\u001b[0m\u001b[1;34m'Komentar'\u001b[0m\u001b[1;33m]\u001b[0m\u001b[1;33m]\u001b[0m\u001b[1;33m\u001b[0m\u001b[1;33m\u001b[0m\u001b[0m\n",
      "\u001b[1;32m<ipython-input-10-257a48f02cbb>\u001b[0m in \u001b[0;36m<listcomp>\u001b[1;34m(.0)\u001b[0m\n\u001b[0;32m      1\u001b[0m \u001b[1;31m#Add VADER metrics to dataframe\u001b[0m\u001b[1;33m\u001b[0m\u001b[1;33m\u001b[0m\u001b[1;33m\u001b[0m\u001b[0m\n\u001b[1;32m----> 2\u001b[1;33m \u001b[0mdf\u001b[0m\u001b[1;33m[\u001b[0m\u001b[1;34m'compound'\u001b[0m\u001b[1;33m]\u001b[0m \u001b[1;33m=\u001b[0m \u001b[1;33m[\u001b[0m\u001b[0mVader\u001b[0m\u001b[1;33m.\u001b[0m\u001b[0mpolarity_scores\u001b[0m\u001b[1;33m(\u001b[0m\u001b[0mx\u001b[0m\u001b[1;33m)\u001b[0m\u001b[1;33m[\u001b[0m\u001b[1;34m'compound'\u001b[0m\u001b[1;33m]\u001b[0m \u001b[1;32mfor\u001b[0m \u001b[0mx\u001b[0m \u001b[1;32min\u001b[0m \u001b[0mdf\u001b[0m\u001b[1;33m[\u001b[0m\u001b[1;34m'Komentar'\u001b[0m\u001b[1;33m]\u001b[0m\u001b[1;33m]\u001b[0m\u001b[1;33m\u001b[0m\u001b[1;33m\u001b[0m\u001b[0m\n\u001b[0m\u001b[0;32m      3\u001b[0m \u001b[0mdf\u001b[0m\u001b[1;33m[\u001b[0m\u001b[1;34m'positif'\u001b[0m\u001b[1;33m]\u001b[0m \u001b[1;33m=\u001b[0m \u001b[1;33m[\u001b[0m\u001b[0mVader\u001b[0m\u001b[1;33m.\u001b[0m\u001b[0mpolarity_scores\u001b[0m\u001b[1;33m(\u001b[0m\u001b[0mx\u001b[0m\u001b[1;33m)\u001b[0m\u001b[1;33m[\u001b[0m\u001b[1;34m'pos'\u001b[0m\u001b[1;33m]\u001b[0m \u001b[1;32mfor\u001b[0m \u001b[0mx\u001b[0m \u001b[1;32min\u001b[0m \u001b[0mdf\u001b[0m\u001b[1;33m[\u001b[0m\u001b[1;34m'Komentar'\u001b[0m\u001b[1;33m]\u001b[0m\u001b[1;33m]\u001b[0m\u001b[1;33m\u001b[0m\u001b[1;33m\u001b[0m\u001b[0m\n\u001b[0;32m      4\u001b[0m \u001b[0mdf\u001b[0m\u001b[1;33m[\u001b[0m\u001b[1;34m'netral'\u001b[0m\u001b[1;33m]\u001b[0m \u001b[1;33m=\u001b[0m \u001b[1;33m[\u001b[0m\u001b[0mVader\u001b[0m\u001b[1;33m.\u001b[0m\u001b[0mpolarity_scores\u001b[0m\u001b[1;33m(\u001b[0m\u001b[0mx\u001b[0m\u001b[1;33m)\u001b[0m\u001b[1;33m[\u001b[0m\u001b[1;34m'neu'\u001b[0m\u001b[1;33m]\u001b[0m \u001b[1;32mfor\u001b[0m \u001b[0mx\u001b[0m \u001b[1;32min\u001b[0m \u001b[0mdf\u001b[0m\u001b[1;33m[\u001b[0m\u001b[1;34m'Komentar'\u001b[0m\u001b[1;33m]\u001b[0m\u001b[1;33m]\u001b[0m\u001b[1;33m\u001b[0m\u001b[1;33m\u001b[0m\u001b[0m\n\u001b[0;32m      5\u001b[0m \u001b[0mdf\u001b[0m\u001b[1;33m[\u001b[0m\u001b[1;34m'negatif'\u001b[0m\u001b[1;33m]\u001b[0m \u001b[1;33m=\u001b[0m \u001b[1;33m[\u001b[0m\u001b[0mVader\u001b[0m\u001b[1;33m.\u001b[0m\u001b[0mpolarity_scores\u001b[0m\u001b[1;33m(\u001b[0m\u001b[0mx\u001b[0m\u001b[1;33m)\u001b[0m\u001b[1;33m[\u001b[0m\u001b[1;34m'neg'\u001b[0m\u001b[1;33m]\u001b[0m \u001b[1;32mfor\u001b[0m \u001b[0mx\u001b[0m \u001b[1;32min\u001b[0m \u001b[0mdf\u001b[0m\u001b[1;33m[\u001b[0m\u001b[1;34m'Komentar'\u001b[0m\u001b[1;33m]\u001b[0m\u001b[1;33m]\u001b[0m\u001b[1;33m\u001b[0m\u001b[1;33m\u001b[0m\u001b[0m\n",
      "\u001b[1;31mNameError\u001b[0m: name 'Vader' is not defined"
     ]
    }
   ],
   "source": [
    "#Add VADER metrics to dataframe\n",
    "df['compound'] = [Vader.polarity_scores(x)['compound'] for x in df['Komentar']]\n",
    "df['positif'] = [Vader.polarity_scores(x)['pos'] for x in df['Komentar']]\n",
    "df['netral'] = [Vader.polarity_scores(x)['neu'] for x in df['Komentar']]\n",
    "df['negatif'] = [Vader.polarity_scores(x)['neg'] for x in df['Komentar']]\n",
    "\n",
    "\n",
    "df.head(4)"
   ]
  },
  {
   "cell_type": "code",
   "execution_count": 20,
   "metadata": {
    "scrolled": true
   },
   "outputs": [
    {
     "name": "stderr",
     "output_type": "stream",
     "text": [
      "<ipython-input-20-b19ec177229f>:3: FutureWarning: Passing a negative integer is deprecated in version 1.0 and will not be supported in future version. Instead, use None to not limit the column width.\n",
      "  pd.set_option(\"display.max_colwidth\", -1)\n"
     ]
    },
    {
     "data": {
      "text/html": [
       "<div>\n",
       "<style scoped>\n",
       "    .dataframe tbody tr th:only-of-type {\n",
       "        vertical-align: middle;\n",
       "    }\n",
       "\n",
       "    .dataframe tbody tr th {\n",
       "        vertical-align: top;\n",
       "    }\n",
       "\n",
       "    .dataframe thead th {\n",
       "        text-align: right;\n",
       "    }\n",
       "</style>\n",
       "<table border=\"1\" class=\"dataframe\">\n",
       "  <thead>\n",
       "    <tr style=\"text-align: right;\">\n",
       "      <th></th>\n",
       "      <th>translate_En</th>\n",
       "      <th>compound</th>\n",
       "    </tr>\n",
       "  </thead>\n",
       "  <tbody>\n",
       "    <tr>\n",
       "      <th>0</th>\n",
       "      <td>If I am allowed to replace the first person to be injected with the vaccine, God willing, I am willing &amp; sincerely pleased, God willing, my body will be the victim, right, to prove that I am a child of the nation, for me, Pak Jokowi's struggle is more noble than my life, because of Pak Jokowi's struggle there is still a long way to go to a just &amp; prosperous Indonesia, I hope Mr. Jokowi is pleased with my wishes as your people,,, amen, Robal Allah</td>\n",
       "      <td>0.9459</td>\n",
       "    </tr>\n",
       "  </tbody>\n",
       "</table>\n",
       "</div>"
      ],
      "text/plain": [
       "                                                                                                                                                                                                                                                                                                                                                                                                                                                         translate_En  \\\n",
       "0  If I am allowed to replace the first person to be injected with the vaccine, God willing, I am willing & sincerely pleased, God willing, my body will be the victim, right, to prove that I am a child of the nation, for me, Pak Jokowi's struggle is more noble than my life, because of Pak Jokowi's struggle there is still a long way to go to a just & prosperous Indonesia, I hope Mr. Jokowi is pleased with my wishes as your people,,, amen, Robal Allah   \n",
       "\n",
       "   compound  \n",
       "0  0.9459    "
      ]
     },
     "execution_count": 20,
     "metadata": {},
     "output_type": "execute_result"
    }
   ],
   "source": [
    "# Contoh Hasil analisa Sentiment dari kalimat yang bermakna positif \n",
    "\n",
    "pd.set_option(\"display.max_colwidth\", -1)\n",
    "df[['translate_En', 'compound']].head(1)"
   ]
  },
  {
   "cell_type": "markdown",
   "metadata": {},
   "source": [
    "### Nilai rata2 dari hasil Sentiment Analisis menggunakan VADER "
   ]
  },
  {
   "cell_type": "code",
   "execution_count": 17,
   "metadata": {},
   "outputs": [
    {
     "data": {
      "text/plain": [
       "0.002405616605616605"
      ]
     },
     "execution_count": 17,
     "metadata": {},
     "output_type": "execute_result"
    }
   ],
   "source": [
    "df[\"compound\"].mean()"
   ]
  }
 ],
 "metadata": {
  "kernelspec": {
   "display_name": "Python 3",
   "language": "python",
   "name": "python3"
  },
  "language_info": {
   "codemirror_mode": {
    "name": "ipython",
    "version": 3
   },
   "file_extension": ".py",
   "mimetype": "text/x-python",
   "name": "python",
   "nbconvert_exporter": "python",
   "pygments_lexer": "ipython3",
   "version": "3.8.5"
  }
 },
 "nbformat": 4,
 "nbformat_minor": 4
}
